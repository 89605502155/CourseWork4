{
 "cells": [
  {
   "cell_type": "code",
   "execution_count": 1,
   "metadata": {},
   "outputs": [],
   "source": [
    "import pandas as pd\n",
    "import numpy as np\n",
    "import scipy"
   ]
  },
  {
   "cell_type": "code",
   "execution_count": 2,
   "metadata": {},
   "outputs": [],
   "source": [
    "import math as m"
   ]
  },
  {
   "cell_type": "code",
   "execution_count": 3,
   "metadata": {},
   "outputs": [],
   "source": [
    "df=pd.read_excel(\"file.xlsx\") "
   ]
  },
  {
   "cell_type": "code",
   "execution_count": 4,
   "metadata": {},
   "outputs": [
    {
     "data": {
      "text/html": [
       "<div>\n",
       "<style scoped>\n",
       "    .dataframe tbody tr th:only-of-type {\n",
       "        vertical-align: middle;\n",
       "    }\n",
       "\n",
       "    .dataframe tbody tr th {\n",
       "        vertical-align: top;\n",
       "    }\n",
       "\n",
       "    .dataframe thead th {\n",
       "        text-align: right;\n",
       "    }\n",
       "</style>\n",
       "<table border=\"1\" class=\"dataframe\">\n",
       "  <thead>\n",
       "    <tr style=\"text-align: right;\">\n",
       "      <th></th>\n",
       "      <th>Задержка, нс</th>\n",
       "      <th>Интенсивность Na I 330.24 нм</th>\n",
       "      <th>SE</th>\n",
       "      <th>K 404.414 интенсивность</th>\n",
       "      <th>SE.1</th>\n",
       "      <th>T, K</th>\n",
       "      <th>SE(T)</th>\n",
       "      <th>Ne, cm-3</th>\n",
       "      <th>SE(Ne)</th>\n",
       "    </tr>\n",
       "  </thead>\n",
       "  <tbody>\n",
       "    <tr>\n",
       "      <td>0</td>\n",
       "      <td>500</td>\n",
       "      <td>7514.84396</td>\n",
       "      <td>476.10945</td>\n",
       "      <td>4062.66594</td>\n",
       "      <td>339.049</td>\n",
       "      <td>11160</td>\n",
       "      <td>460</td>\n",
       "      <td>460630000000000000</td>\n",
       "      <td>5516320000000000</td>\n",
       "    </tr>\n",
       "    <tr>\n",
       "      <td>1</td>\n",
       "      <td>750</td>\n",
       "      <td>5203.17760</td>\n",
       "      <td>311.22042</td>\n",
       "      <td>3523.60950</td>\n",
       "      <td>261.361</td>\n",
       "      <td>9070</td>\n",
       "      <td>620</td>\n",
       "      <td>120978000000000000</td>\n",
       "      <td>8490570000000000</td>\n",
       "    </tr>\n",
       "    <tr>\n",
       "      <td>2</td>\n",
       "      <td>1000</td>\n",
       "      <td>3019.74546</td>\n",
       "      <td>159.50829</td>\n",
       "      <td>3290.13220</td>\n",
       "      <td>221.179</td>\n",
       "      <td>8010</td>\n",
       "      <td>430</td>\n",
       "      <td>41781900000000000</td>\n",
       "      <td>9520250000000000</td>\n",
       "    </tr>\n",
       "    <tr>\n",
       "      <td>3</td>\n",
       "      <td>1250</td>\n",
       "      <td>3518.56412</td>\n",
       "      <td>276.24331</td>\n",
       "      <td>2445.47059</td>\n",
       "      <td>199.793</td>\n",
       "      <td>6990</td>\n",
       "      <td>400</td>\n",
       "      <td>23834500000000000</td>\n",
       "      <td>4641110000000000</td>\n",
       "    </tr>\n",
       "    <tr>\n",
       "      <td>4</td>\n",
       "      <td>1500</td>\n",
       "      <td>3191.24572</td>\n",
       "      <td>257.59178</td>\n",
       "      <td>2681.43580</td>\n",
       "      <td>246.388</td>\n",
       "      <td>6770</td>\n",
       "      <td>350</td>\n",
       "      <td>13100000000000000</td>\n",
       "      <td>820700000000000</td>\n",
       "    </tr>\n",
       "    <tr>\n",
       "      <td>5</td>\n",
       "      <td>2000</td>\n",
       "      <td>3110.56996</td>\n",
       "      <td>388.48582</td>\n",
       "      <td>2824.07872</td>\n",
       "      <td>230.022</td>\n",
       "      <td>6170</td>\n",
       "      <td>390</td>\n",
       "      <td>9020000000000000</td>\n",
       "      <td>460000000000000</td>\n",
       "    </tr>\n",
       "    <tr>\n",
       "      <td>6</td>\n",
       "      <td>2500</td>\n",
       "      <td>4871.58925</td>\n",
       "      <td>333.56105</td>\n",
       "      <td>2333.55213</td>\n",
       "      <td>165.970</td>\n",
       "      <td>6070</td>\n",
       "      <td>180</td>\n",
       "      <td>8040000000000000</td>\n",
       "      <td>320800000000000</td>\n",
       "    </tr>\n",
       "    <tr>\n",
       "      <td>7</td>\n",
       "      <td>3000</td>\n",
       "      <td>4738.03161</td>\n",
       "      <td>355.98870</td>\n",
       "      <td>2921.55778</td>\n",
       "      <td>121.481</td>\n",
       "      <td>5690</td>\n",
       "      <td>210</td>\n",
       "      <td>6540000000000000</td>\n",
       "      <td>458600000000000</td>\n",
       "    </tr>\n",
       "  </tbody>\n",
       "</table>\n",
       "</div>"
      ],
      "text/plain": [
       "   Задержка, нс  Интенсивность Na I 330.24 нм         SE  \\\n",
       "0           500                    7514.84396  476.10945   \n",
       "1           750                    5203.17760  311.22042   \n",
       "2          1000                    3019.74546  159.50829   \n",
       "3          1250                    3518.56412  276.24331   \n",
       "4          1500                    3191.24572  257.59178   \n",
       "5          2000                    3110.56996  388.48582   \n",
       "6          2500                    4871.58925  333.56105   \n",
       "7          3000                    4738.03161  355.98870   \n",
       "\n",
       "   K 404.414 интенсивность     SE.1   T, K  SE(T)            Ne, cm-3  \\\n",
       "0               4062.66594  339.049  11160    460  460630000000000000   \n",
       "1               3523.60950  261.361   9070    620  120978000000000000   \n",
       "2               3290.13220  221.179   8010    430   41781900000000000   \n",
       "3               2445.47059  199.793   6990    400   23834500000000000   \n",
       "4               2681.43580  246.388   6770    350   13100000000000000   \n",
       "5               2824.07872  230.022   6170    390    9020000000000000   \n",
       "6               2333.55213  165.970   6070    180    8040000000000000   \n",
       "7               2921.55778  121.481   5690    210    6540000000000000   \n",
       "\n",
       "             SE(Ne)  \n",
       "0  5516320000000000  \n",
       "1  8490570000000000  \n",
       "2  9520250000000000  \n",
       "3  4641110000000000  \n",
       "4   820700000000000  \n",
       "5   460000000000000  \n",
       "6   320800000000000  \n",
       "7   458600000000000  "
      ]
     },
     "execution_count": 4,
     "metadata": {},
     "output_type": "execute_result"
    }
   ],
   "source": [
    "df"
   ]
  },
  {
   "cell_type": "code",
   "execution_count": 5,
   "metadata": {},
   "outputs": [],
   "source": [
    "import matplotlib.pyplot as plt"
   ]
  },
  {
   "cell_type": "code",
   "execution_count": 6,
   "metadata": {},
   "outputs": [
    {
     "data": {
      "text/plain": [
       "0     500\n",
       "1     750\n",
       "2    1000\n",
       "3    1250\n",
       "4    1500\n",
       "5    2000\n",
       "6    2500\n",
       "7    3000\n",
       "Name: Задержка, нс, dtype: int64"
      ]
     },
     "execution_count": 6,
     "metadata": {},
     "output_type": "execute_result"
    }
   ],
   "source": [
    "df['Задержка, нс']"
   ]
  },
  {
   "cell_type": "code",
   "execution_count": 7,
   "metadata": {},
   "outputs": [
    {
     "data": {
      "image/png": "[encoded data removed]",
      "text/plain": [
       "<Figure size 432x288 with 1 Axes>"
      ]
     },
     "metadata": {
      "needs_background": "light"
     },
     "output_type": "display_data"
    }
   ],
   "source": [
    "plt.plot(df['SE']/df['Интенсивность Na I 330.24 нм'],color=\"#ff00ee\",label=\"SE Na\")\n",
    "plt.plot(df['SE.1']/df['K 404.414 интенсивность'],color=\"red\",label=\"SE K\")\n",
    "plt.plot(df['SE(T)']/df['T, K'],color=\"green\",label=\"SE T\")\n",
    "plt.plot(df['SE(Ne)']/df['Ne, cm-3'],color=\"blue\",label=\"SE Ne\")\n",
    "plt.show();"
   ]
  },
  {
   "cell_type": "code",
   "execution_count": 8,
   "metadata": {},
   "outputs": [
    {
     "data": {
      "text/plain": [
       "0    5516320000000000\n",
       "1    8490570000000000\n",
       "2    9520250000000000\n",
       "3    4641110000000000\n",
       "4     820700000000000\n",
       "5     460000000000000\n",
       "6     320800000000000\n",
       "7     458600000000000\n",
       "Name: SE(Ne), dtype: int64"
      ]
     },
     "execution_count": 8,
     "metadata": {},
     "output_type": "execute_result"
    }
   ],
   "source": [
    "df['SE(Ne)']"
   ]
  },
  {
   "cell_type": "code",
   "execution_count": 9,
   "metadata": {},
   "outputs": [
    {
     "data": {
      "text/plain": [
       "0    -173502756353474560\n",
       "1   -3401397486201339904\n",
       "2   -5600581547560271872\n",
       "3    7149649823079071744\n",
       "4   -7073350137635930112\n",
       "5   -1906712434714869760\n",
       "6    3890992973885734912\n",
       "7   -3662158209138819072\n",
       "Name: SE(Ne), dtype: int64"
      ]
     },
     "execution_count": 9,
     "metadata": {},
     "output_type": "execute_result"
    }
   ],
   "source": [
    "df['SE(Ne)']**2"
   ]
  },
  {
   "cell_type": "markdown",
   "metadata": {},
   "source": [
    "# Пишем класс для Q"
   ]
  },
  {
   "cell_type": "markdown",
   "metadata": {},
   "source": [
    "Создание класса будет полезно в будущем, если я решу летом сделать ГУИ для этой задачи (в образовательных целях)."
   ]
  },
  {
   "cell_type": "markdown",
   "metadata": {},
   "source": [
    "Сперва напишу класс для того, чтобы пересчитывать partfunc на 2 вектора, а не на 2 числа. Просто, скажем в жайле K 1.tsv нас интересуют 2 вектора - колонки номер 3 и 4. "
   ]
  },
  {
   "cell_type": "code",
   "execution_count": 10,
   "metadata": {},
   "outputs": [],
   "source": [
    "class PF():\n",
    "    def calc(self,pd_vec1,pd_vec2,T):\n",
    "        koef=(-1)*11604/T\n",
    "        #print(koef)\n",
    "        #print(np.array(pd_vec1)*np.exp(np.array(pd_vec2)*koef))\n",
    "        return np.sum(np.array(pd_vec1,dtype = np.object)*np.array(np.exp(np.array(pd_vec2)*koef),dtype = np.object))\n",
    "        "
   ]
  },
  {
   "cell_type": "code",
   "execution_count": 11,
   "metadata": {},
   "outputs": [],
   "source": [
    "a=PF()\n",
    "tt=a.calc([2,3,4,5],[1,2,3,4],-11604)"
   ]
  },
  {
   "cell_type": "code",
   "execution_count": 12,
   "metadata": {},
   "outputs": [
    {
     "data": {
      "text/plain": [
       "380.9366298121819"
      ]
     },
     "execution_count": 12,
     "metadata": {},
     "output_type": "execute_result"
    }
   ],
   "source": [
    "tt"
   ]
  },
  {
   "cell_type": "code",
   "execution_count": null,
   "metadata": {},
   "outputs": [],
   "source": []
  },
  {
   "cell_type": "code",
   "execution_count": 13,
   "metadata": {},
   "outputs": [],
   "source": [
    "class Q():\n",
    "    def __init__(self,T=300,Ne=m.pow(10,17)):\n",
    "        self.h=6.626*m.pow(10,-7)\n",
    "        self.k_b=1.38\n",
    "        self.T=T\n",
    "        self.Ne=Ne\n",
    "        \n",
    "    def L(self):\n",
    "        return m.sqrt(m.pow(self.h,2)/(2*m.pi*self.T*9.1094))\n",
    "    \n",
    "    def partfunc(self, file_):\n",
    "        calcul=PF()\n",
    "        return calcul.calc(file_[0],file_[1],self.T)\n",
    "        #return file_[0]*m.exp(((-1)*file_[1]*11604)/self.T)\n",
    "    \n",
    "    def alpha(self,f1,f2,Eion):\n",
    "        return (2/m.pow(self.L(),3))*(self.partfunc(f2)/self.partfunc(f1))*(m.pow(10,-6)/self.Ne)*m.exp(((-1)*Eion*11604)/self.T)\n",
    "    \n",
    "    def nt1quot(self,f1,f2,f3,Eion1,Eion2):\n",
    "        if (Eion2==0):\n",
    "            return 1/(1+(2*self.alpha(f1,f2,Eion1)))\n",
    "        else:\n",
    "            return 1/(1+(2*self.alpha(f1,f2,Eion1))+self.alpha(f2,f3,Eion2))\n",
    "        \n",
    "    def ion1quot(self,f1,f2,f3,Eion1,Eion2):\n",
    "        if (Eion2==0):\n",
    "            return self.alpha(f1,f2,Eion1)/(1+(2*self.alpha(f1,f2,Eion1)))\n",
    "        else:\n",
    "            return self.alpha(f1,f2,Eion1)/(1+(2*self.alpha(f1,f2,Eion1))+self.alpha(f2,f3,Eion2))\n",
    "    \n",
    "    def ret_stage_1(self,filepartfunc,Ex,f1,f2,f3,Eion1,Eion2):\n",
    "        return (self.partfunc(filepartfunc)*m.exp((Ex*11604)/self.T))/self.nt1quot(f1,f2,f3,Eion1,Eion2)\n",
    "    \n",
    "    def ret_stage_2(self,filepartfunc,Ex,f1,f2,f3,Eion1,Eion2):\n",
    "        return (self.partfunc(filepartfunc)*m.exp((Ex*11604)/self.T))/self.ion1quot(f1,f2,f3,Eion1,Eion2)\n",
    "        \n",
    "    def main(self,stage,filepartfunc,Ex,f1,f2,f3,Eion1,Eion2):\n",
    "        if (stage==1):\n",
    "            return self.ret_stage_1(filepartfunc,Ex,f1,f2,f3,Eion1,Eion2)\n",
    "        if (stage==2):\n",
    "            return self.ret_stage_2(filepartfunc,Ex,f1,f2,f3,Eion1,Eion2)\n",
    "        if ((stage>2) or (stage<0)):\n",
    "            return \"Error, No data\""
   ]
  },
  {
   "cell_type": "markdown",
   "metadata": {},
   "source": [
    "Нужен класс для чтения tsv файлов и формирования из них pandas объектов из нужных столбцов, ведь нам нужны третий и четвётртый столбцы, которые потом запихивать в list чтобы вставлять их в в модель в команде ниже. "
   ]
  },
  {
   "cell_type": "code",
   "execution_count": 67,
   "metadata": {},
   "outputs": [],
   "source": [
    "class pd_list_form():\n",
    "    def read_(self,filename):\n",
    "        df=pd.read_csv(filename,sep=\"\\t\")\n",
    "        return list([df['g'],df['Level (eV)']])\n",
    "    \n",
    "    def main(self,filename):\n",
    "        return self.read_(filename)"
   ]
  },
  {
   "cell_type": "code",
   "execution_count": 68,
   "metadata": {},
   "outputs": [],
   "source": [
    "read_tsv=pd_list_form()"
   ]
  },
  {
   "cell_type": "code",
   "execution_count": 69,
   "metadata": {},
   "outputs": [],
   "source": [
    "f1_K=read_tsv.main(\"K_1.tsv\")\n",
    "f2_K=read_tsv.main(\"K_2.tsv\")\n",
    "f3_K=read_tsv.main(\"K_3.tsv\")\n",
    "f1_N=read_tsv.main(\"Na_1.tsv\")\n",
    "f2_N=read_tsv.main(\"Na_2.tsv\")\n",
    "f3_N=read_tsv.main(\"Na_3.tsv\")"
   ]
  },
  {
   "cell_type": "code",
   "execution_count": null,
   "metadata": {},
   "outputs": [],
   "source": []
  },
  {
   "cell_type": "code",
   "execution_count": 72,
   "metadata": {},
   "outputs": [],
   "source": [
    "a=Q(T=11160,Ne=460630000000000000)"
   ]
  },
  {
   "cell_type": "code",
   "execution_count": 15,
   "metadata": {},
   "outputs": [],
   "source": [
    "#tt=a.main(filepartfunc=[2,1.60995783],Ex=3.065,f1=[2,1.60995783],f2=[5,20.147767],f3=[2,0.268475],\n",
    "#         Eion1=4.34066354,Eion2=31.625,stage=1)"
   ]
  },
  {
   "cell_type": "code",
   "execution_count": 73,
   "metadata": {},
   "outputs": [],
   "source": [
    "tt=a.main(filepartfunc=f1_K,Ex=3.065,f1=f1_K,f2=f2_K,f3=f3_K,\n",
    "         Eion1=4.34066354,Eion2=31.625,stage=1)"
   ]
  },
  {
   "cell_type": "code",
   "execution_count": 74,
   "metadata": {},
   "outputs": [
    {
     "data": {
      "text/plain": [
       "4390.856328024759"
      ]
     },
     "execution_count": 74,
     "metadata": {},
     "output_type": "execute_result"
    }
   ],
   "source": [
    "tt"
   ]
  },
  {
   "cell_type": "markdown",
   "metadata": {},
   "source": [
    "Далее будет длинный класс, который будет уже непосредственно самой функцией f которую мы потом будем дифференцировать."
   ]
  },
  {
   "cell_type": "code",
   "execution_count": 92,
   "metadata": {},
   "outputs": [],
   "source": [
    "class f():\n",
    "    def __init__(self,T,Ne,lamb_K=404.414,lamb_N=330.24,Ex_K=3.065,\n",
    "                Eion1_K=4.34066354, Eion2_K=31.625, Ex_N=3.75,\n",
    "                Eion1_N=5.1390769, Eion2_N=47.28636, mass_K=39.0983,\n",
    "                mass_N=22.9898, intens_K=4062.66594, intens_N=7514.84396,\n",
    "                alpha_K=0.11,alpha_N=0.0464):\n",
    "        read_tsv=pd_list_form()\n",
    "        self.f1_K=read_tsv.main(\"K_1.tsv\")\n",
    "        self.f2_K=read_tsv.main(\"K_2.tsv\")\n",
    "        self.f3_K=read_tsv.main(\"K_3.tsv\")\n",
    "        self.f1_N=read_tsv.main(\"Na_1.tsv\")\n",
    "        self.f2_N=read_tsv.main(\"Na_2.tsv\")\n",
    "        self.f3_N=read_tsv.main(\"Na_3.tsv\")\n",
    "        self.T=T\n",
    "        self.Ne=Ne\n",
    "        self.lamb_K=lamb_K\n",
    "        self.lamb_N=lamb_N\n",
    "        self.Ex_K=Ex_K\n",
    "        self.Eion1_K=Eion1_K\n",
    "        self.Eion2_K=Eion2_K\n",
    "        self.Ex_N=Ex_N\n",
    "        self.Eion1_N=Eion1_N\n",
    "        self.Eion2_N=Eion2_N\n",
    "        self.mass_K=mass_K\n",
    "        self.mass_N=mass_N\n",
    "        self.intens_K=intens_K\n",
    "        self.intens_N=intens_N\n",
    "        self.alpha_K=alpha_K\n",
    "        self.alpha_N=alpha_N\n",
    "        \n",
    "    def q_K(self):\n",
    "        q=Q(T=self.T,Ne=self.Ne)\n",
    "        return q.main(filepartfunc=self.f1_K,Ex=self.Ex_K,f1=self.f1_K,f2=self.f2_K,f3=self.f3_K,\n",
    "                      Eion1=self.Eion1_K,Eion2=self.Eion2_K,stage=1)\n",
    "    \n",
    "    def q_N(self):\n",
    "        q=Q(T=self.T,Ne=self.Ne)\n",
    "        return q.main(filepartfunc=self.f1_N,Ex=self.Ex_N,f1=self.f1_N,f2=self.f2_N,f3=self.f3_N,\n",
    "                      Eion1=self.Eion1_N,Eion2=self.Eion2_N,stage=1)\n",
    "    \n",
    "    def upp(self):\n",
    "        return self.intens_K*self.alpha_K*self.lamb_K*self.mass_K*self.q_K()\n",
    "    \n",
    "    def dow(self):\n",
    "        return self.intens_N*self.alpha_N*self.lamb_N*self.mass_N*self.q_N()\n",
    "    \n",
    "    def main(self):\n",
    "        return self.upp()/self.dow()"
   ]
  },
  {
   "cell_type": "code",
   "execution_count": 93,
   "metadata": {},
   "outputs": [],
   "source": [
    "aa=f(T=11160,Ne=460630000000000000,intens_K=4062.66594, intens_N=7514.84396)"
   ]
  },
  {
   "cell_type": "code",
   "execution_count": 94,
   "metadata": {},
   "outputs": [
    {
     "data": {
      "text/plain": [
       "2.9155609783318583"
      ]
     },
     "execution_count": 94,
     "metadata": {},
     "output_type": "execute_result"
    }
   ],
   "source": [
    "aa.main()"
   ]
  },
  {
   "cell_type": "markdown",
   "metadata": {},
   "source": [
    "Далее напишу по быстрому свой класс для нахождения примерного значения первой (раньше я чего-то решил, что нужна именно вторая производная, но, сейчас я близок к мнению, что нужен квадрат первой производной) производной по уравнению:\n",
    "<font size=5>$f^{''}(x)=\\frac{f(x-2h)-8f(x-h)+8f(x+h)-f(x+2h)}{12h}$</font>"
   ]
  },
  {
   "cell_type": "code",
   "execution_count": 120,
   "metadata": {},
   "outputs": [],
   "source": [
    "class my_deriv():\n",
    "    def __init__(self,h=100,T=11160,Ne=460630000000000000,intens_K=4062.66594, intens_N=7514.84396,\n",
    "                param=\"T\"):\n",
    "        self.h=h\n",
    "        self.T=T\n",
    "        self.Ne=Ne\n",
    "        self.intens_K=intens_K\n",
    "        self.intens_N=intens_N\n",
    "        self.param=param\n",
    "    \n",
    "    def deriv_t(self):\n",
    "        f1=f(T=self.T-(2*self.h),Ne=self.Ne,intens_K=self.intens_K, intens_N=self.intens_N)\n",
    "        f2=f(T=self.T-(self.h),Ne=self.Ne,intens_K=self.intens_K, intens_N=self.intens_N)\n",
    "        f4=f(T=self.T+(self.h),Ne=self.Ne,intens_K=self.intens_K, intens_N=self.intens_N)\n",
    "        f5=f(T=self.T+(2*self.h),Ne=self.Ne,intens_K=self.intens_K, intens_N=self.intens_N)\n",
    "        return (f1.main()-(8*f2.main())+(8*f4.main())-f5.main())/(12*self.h)\n",
    "    \n",
    "    def deriv_n(self):\n",
    "        f1=f(T=self.T,Ne=self.Ne-(2*self.h),intens_K=self.intens_K, intens_N=self.intens_N)\n",
    "        f2=f(T=self.T,Ne=self.Ne-(self.h),intens_K=self.intens_K, intens_N=self.intens_N)\n",
    "        f4=f(T=self.T,Ne=self.Ne+(self.h),intens_K=self.intens_K, intens_N=self.intens_N)\n",
    "        f5=f(T=self.T,Ne=self.Ne+(2*self.h),intens_K=self.intens_K, intens_N=self.intens_N)\n",
    "        return (f1.main()-(8*f2.main())+(8*f4.main())-f5.main())/(12*self.h)\n",
    "    \n",
    "    def deriv_in(self):\n",
    "        f1=f(T=self.T,Ne=self.Ne,intens_K=self.intens_K, intens_N=self.intens_N-(2*self.h))\n",
    "        f2=f(T=self.T,Ne=self.Ne,intens_K=self.intens_K, intens_N=self.intens_N-(self.h))\n",
    "        f4=f(T=self.T,Ne=self.Ne,intens_K=self.intens_K, intens_N=self.intens_N+(self.h))\n",
    "        f5=f(T=self.T,Ne=self.Ne,intens_K=self.intens_K, intens_N=self.intens_N+(2*self.h))\n",
    "        return (f1.main()-(8*f2.main())+(8*f4.main())-f5.main())/(12*self.h)\n",
    "    \n",
    "    def deriv_ik(self):\n",
    "        f1=f(T=self.T,Ne=self.Ne,intens_K=self.intens_K-(2*self.h), intens_N=self.intens_N)\n",
    "        f2=f(T=self.T,Ne=self.Ne,intens_K=self.intens_K-(self.h), intens_N=self.intens_N)\n",
    "        f4=f(T=self.T,Ne=self.Ne,intens_K=self.intens_K+(self.h), intens_N=self.intens_N)\n",
    "        f5=f(T=self.T,Ne=self.Ne,intens_K=self.intens_K+(2*self.h), intens_N=self.intens_N)\n",
    "        return (f1.main()-(8*f2.main())+(8*f4.main())-f5.main())/(12*self.h)\n",
    "        \n",
    "    def calc(self):\n",
    "        if (self.param==\"T\"):\n",
    "            return self.deriv_t()\n",
    "        if (self.param==\"N\"):\n",
    "            return self.deriv_n()\n",
    "        if (self.param==\"IN\"):\n",
    "            return self.deriv_in()\n",
    "        if (self.param==\"IK\"):\n",
    "            return self.deriv_ik()"
   ]
  },
  {
   "cell_type": "code",
   "execution_count": 134,
   "metadata": {},
   "outputs": [],
   "source": [
    "a=my_deriv(h=5,T=6170,Ne=9020000000000000,intens_K=2824.07872, intens_N=3110.56996,param=\"IK\")"
   ]
  },
  {
   "cell_type": "code",
   "execution_count": 135,
   "metadata": {},
   "outputs": [
    {
     "data": {
      "text/plain": [
       "0.17586993065014186"
      ]
     },
     "execution_count": 135,
     "metadata": {},
     "output_type": "execute_result"
    }
   ],
   "source": [
    "m.pow(a.calc(),2)*m.pow(230.022,2)"
   ]
  },
  {
   "cell_type": "markdown",
   "metadata": {},
   "source": [
    "Далее нужно написать класс, который будет получать вектора ошибок, разной природы, и далее накинем на него ещё и ковариацию, чтобы он полностью реализовывал закон распространения ошибки. Важно, df должен быть импортирован заранее (файл с экспериментальными данными)"
   ]
  },
  {
   "cell_type": "code",
   "execution_count": 176,
   "metadata": {},
   "outputs": [],
   "source": [
    "class vector_derivative():\n",
    "    def __init__(self,df):\n",
    "        self.df=df\n",
    "    \n",
    "    def vec_t(self):\n",
    "        res=list()\n",
    "        for i in range(len(df.iloc[:,0])):\n",
    "            model=my_deriv(h=5,T=df.iloc[i,5],Ne=df.iloc[i,7],\n",
    "                           intens_K=df.iloc[i,3], intens_N=df.iloc[i,1],param=\"T\")\n",
    "            res.append(m.pow(model.calc(),2)*m.pow(df.iloc[i,6],2))\n",
    "        return res\n",
    "    \n",
    "    def vec_n(self):\n",
    "        res=list()\n",
    "        for i in range(len(df.iloc[:,0])):\n",
    "            model=my_deriv(h=3208000000000000,T=df.iloc[i,5],Ne=df.iloc[i,7],\n",
    "                           intens_K=df.iloc[i,3], intens_N=df.iloc[i,1],param=\"N\")\n",
    "            res.append(m.pow(model.calc(),2)*m.pow(df.iloc[i,8],2))\n",
    "        return res\n",
    "    \n",
    "    def vec_ik(self):\n",
    "        res=list()\n",
    "        for i in range(len(df.iloc[:,0])):\n",
    "            model=my_deriv(h=1/5000,T=df.iloc[i,5],Ne=df.iloc[i,7],\n",
    "                           intens_K=df.iloc[i,3], intens_N=df.iloc[i,1],param=\"IK\")\n",
    "            res.append(m.pow(model.calc(),2)*m.pow(df.iloc[i,4],2))\n",
    "        return res\n",
    "    \n",
    "    def vec_in(self):\n",
    "        res=list()\n",
    "        for i in range(len(df.iloc[:,0])):\n",
    "            model=my_deriv(h=1/5000,T=df.iloc[i,5],Ne=df.iloc[i,7],\n",
    "                           intens_K=df.iloc[i,3], intens_N=df.iloc[i,1],param=\"IN\")\n",
    "            res.append(m.pow(model.calc(),2)*m.pow(df.iloc[i,2],2))\n",
    "        return res\n",
    "        \n",
    "    def main(self):\n",
    "        return np.array([self.vec_t(),self.vec_n(),self.vec_ik(),self.vec_in()])"
   ]
  },
  {
   "cell_type": "code",
   "execution_count": 177,
   "metadata": {},
   "outputs": [],
   "source": [
    "aaaa=vector_derivative(df=df)"
   ]
  },
  {
   "cell_type": "code",
   "execution_count": 178,
   "metadata": {},
   "outputs": [],
   "source": [
    "res=aaaa.main()"
   ]
  },
  {
   "cell_type": "code",
   "execution_count": 179,
   "metadata": {},
   "outputs": [
    {
     "data": {
      "image/png": "[encoded data removed]",
      "text/plain": [
       "<Figure size 432x288 with 1 Axes>"
      ]
     },
     "metadata": {
      "needs_background": "light"
     },
     "output_type": "display_data"
    }
   ],
   "source": [
    "plt.plot(res[0,:])\n",
    "plt.plot(res[1,:])\n",
    "plt.plot((res[2,:]+res[3,:]))\n",
    "plt.show()"
   ]
  },
  {
   "cell_type": "code",
   "execution_count": 149,
   "metadata": {},
   "outputs": [
    {
     "data": {
      "text/plain": [
       "10000000000.0"
      ]
     },
     "execution_count": 149,
     "metadata": {},
     "output_type": "execute_result"
    }
   ],
   "source": [
    "1e10"
   ]
  },
  {
   "cell_type": "code",
   "execution_count": 127,
   "metadata": {},
   "outputs": [],
   "source": [
    "df=pd.read_excel(\"file.xlsx\") "
   ]
  },
  {
   "cell_type": "code",
   "execution_count": 128,
   "metadata": {},
   "outputs": [
    {
     "data": {
      "text/html": [
       "<div>\n",
       "<style scoped>\n",
       "    .dataframe tbody tr th:only-of-type {\n",
       "        vertical-align: middle;\n",
       "    }\n",
       "\n",
       "    .dataframe tbody tr th {\n",
       "        vertical-align: top;\n",
       "    }\n",
       "\n",
       "    .dataframe thead th {\n",
       "        text-align: right;\n",
       "    }\n",
       "</style>\n",
       "<table border=\"1\" class=\"dataframe\">\n",
       "  <thead>\n",
       "    <tr style=\"text-align: right;\">\n",
       "      <th></th>\n",
       "      <th>Задержка, нс</th>\n",
       "      <th>Интенсивность Na I 330.24 нм</th>\n",
       "      <th>SE</th>\n",
       "      <th>K 404.414 интенсивность</th>\n",
       "      <th>SE.1</th>\n",
       "      <th>T, K</th>\n",
       "      <th>SE(T)</th>\n",
       "      <th>Ne, cm-3</th>\n",
       "      <th>SE(Ne)</th>\n",
       "    </tr>\n",
       "  </thead>\n",
       "  <tbody>\n",
       "    <tr>\n",
       "      <td>0</td>\n",
       "      <td>500</td>\n",
       "      <td>7514.84396</td>\n",
       "      <td>476.10945</td>\n",
       "      <td>4062.66594</td>\n",
       "      <td>339.049</td>\n",
       "      <td>11160</td>\n",
       "      <td>460</td>\n",
       "      <td>460630000000000000</td>\n",
       "      <td>5516320000000000</td>\n",
       "    </tr>\n",
       "    <tr>\n",
       "      <td>1</td>\n",
       "      <td>750</td>\n",
       "      <td>5203.17760</td>\n",
       "      <td>311.22042</td>\n",
       "      <td>3523.60950</td>\n",
       "      <td>261.361</td>\n",
       "      <td>9070</td>\n",
       "      <td>620</td>\n",
       "      <td>120978000000000000</td>\n",
       "      <td>8490570000000000</td>\n",
       "    </tr>\n",
       "    <tr>\n",
       "      <td>2</td>\n",
       "      <td>1000</td>\n",
       "      <td>3019.74546</td>\n",
       "      <td>159.50829</td>\n",
       "      <td>3290.13220</td>\n",
       "      <td>221.179</td>\n",
       "      <td>8010</td>\n",
       "      <td>430</td>\n",
       "      <td>41781900000000000</td>\n",
       "      <td>9520250000000000</td>\n",
       "    </tr>\n",
       "    <tr>\n",
       "      <td>3</td>\n",
       "      <td>1250</td>\n",
       "      <td>3518.56412</td>\n",
       "      <td>276.24331</td>\n",
       "      <td>2445.47059</td>\n",
       "      <td>199.793</td>\n",
       "      <td>6990</td>\n",
       "      <td>400</td>\n",
       "      <td>23834500000000000</td>\n",
       "      <td>4641110000000000</td>\n",
       "    </tr>\n",
       "    <tr>\n",
       "      <td>4</td>\n",
       "      <td>1500</td>\n",
       "      <td>3191.24572</td>\n",
       "      <td>257.59178</td>\n",
       "      <td>2681.43580</td>\n",
       "      <td>246.388</td>\n",
       "      <td>6770</td>\n",
       "      <td>350</td>\n",
       "      <td>13100000000000000</td>\n",
       "      <td>820700000000000</td>\n",
       "    </tr>\n",
       "    <tr>\n",
       "      <td>5</td>\n",
       "      <td>2000</td>\n",
       "      <td>3110.56996</td>\n",
       "      <td>388.48582</td>\n",
       "      <td>2824.07872</td>\n",
       "      <td>230.022</td>\n",
       "      <td>6170</td>\n",
       "      <td>390</td>\n",
       "      <td>9020000000000000</td>\n",
       "      <td>460000000000000</td>\n",
       "    </tr>\n",
       "    <tr>\n",
       "      <td>6</td>\n",
       "      <td>2500</td>\n",
       "      <td>4871.58925</td>\n",
       "      <td>333.56105</td>\n",
       "      <td>2333.55213</td>\n",
       "      <td>165.970</td>\n",
       "      <td>6070</td>\n",
       "      <td>180</td>\n",
       "      <td>8040000000000000</td>\n",
       "      <td>320800000000000</td>\n",
       "    </tr>\n",
       "    <tr>\n",
       "      <td>7</td>\n",
       "      <td>3000</td>\n",
       "      <td>4738.03161</td>\n",
       "      <td>355.98870</td>\n",
       "      <td>2921.55778</td>\n",
       "      <td>121.481</td>\n",
       "      <td>5690</td>\n",
       "      <td>210</td>\n",
       "      <td>6540000000000000</td>\n",
       "      <td>458600000000000</td>\n",
       "    </tr>\n",
       "  </tbody>\n",
       "</table>\n",
       "</div>"
      ],
      "text/plain": [
       "   Задержка, нс  Интенсивность Na I 330.24 нм         SE  \\\n",
       "0           500                    7514.84396  476.10945   \n",
       "1           750                    5203.17760  311.22042   \n",
       "2          1000                    3019.74546  159.50829   \n",
       "3          1250                    3518.56412  276.24331   \n",
       "4          1500                    3191.24572  257.59178   \n",
       "5          2000                    3110.56996  388.48582   \n",
       "6          2500                    4871.58925  333.56105   \n",
       "7          3000                    4738.03161  355.98870   \n",
       "\n",
       "   K 404.414 интенсивность     SE.1   T, K  SE(T)            Ne, cm-3  \\\n",
       "0               4062.66594  339.049  11160    460  460630000000000000   \n",
       "1               3523.60950  261.361   9070    620  120978000000000000   \n",
       "2               3290.13220  221.179   8010    430   41781900000000000   \n",
       "3               2445.47059  199.793   6990    400   23834500000000000   \n",
       "4               2681.43580  246.388   6770    350   13100000000000000   \n",
       "5               2824.07872  230.022   6170    390    9020000000000000   \n",
       "6               2333.55213  165.970   6070    180    8040000000000000   \n",
       "7               2921.55778  121.481   5690    210    6540000000000000   \n",
       "\n",
       "             SE(Ne)  \n",
       "0  5516320000000000  \n",
       "1  8490570000000000  \n",
       "2  9520250000000000  \n",
       "3  4641110000000000  \n",
       "4   820700000000000  \n",
       "5   460000000000000  \n",
       "6   320800000000000  \n",
       "7   458600000000000  "
      ]
     },
     "execution_count": 128,
     "metadata": {},
     "output_type": "execute_result"
    }
   ],
   "source": [
    "df"
   ]
  },
  {
   "cell_type": "code",
   "execution_count": 144,
   "metadata": {},
   "outputs": [
    {
     "name": "stdout",
     "output_type": "stream",
     "text": [
      "500 7514.84396\n",
      "750 5203.1776\n",
      "1000 3019.74546\n",
      "1250 3518.56412\n",
      "1500 3191.24572\n",
      "2000 3110.56996\n",
      "2500 4871.58925\n",
      "3000 4738.03161\n"
     ]
    }
   ],
   "source": [
    "for i in range(len(df.iloc[:,0])):\n",
    "    print(df.iloc[i,0],df.iloc[i,1])"
   ]
  },
  {
   "cell_type": "markdown",
   "metadata": {},
   "source": [
    "# Далее реализую библиотечное дифференцирование"
   ]
  },
  {
   "cell_type": "code",
   "execution_count": null,
   "metadata": {},
   "outputs": [],
   "source": []
  }
 ],
 "metadata": {
  "kernelspec": {
   "display_name": "Python 3",
   "language": "python",
   "name": "python3"
  },
  "language_info": {
   "codemirror_mode": {
    "name": "ipython",
    "version": 3
   },
   "file_extension": ".py",
   "mimetype": "text/x-python",
   "name": "python",
   "nbconvert_exporter": "python",
   "pygments_lexer": "ipython3",
   "version": "3.7.4"
  }
 },
 "nbformat": 4,
 "nbformat_minor": 2
}
